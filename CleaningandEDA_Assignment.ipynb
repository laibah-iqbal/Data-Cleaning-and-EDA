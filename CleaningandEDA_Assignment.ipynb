{
 "cells": [
  {
   "cell_type": "code",
   "execution_count": null,
   "metadata": {
    "deletable": false,
    "editable": false
   },
   "outputs": [],
   "source": [
    "# Initialize Otter\n",
    "import otter\n",
    "grader = otter.Notebook()"
   ]
  },
  {
   "cell_type": "markdown",
   "metadata": {},
   "source": [
    "# Instructions"
   ]
  },
  {
   "cell_type": "markdown",
   "metadata": {
    "id": "Hf4N4e4HvqZO"
   },
   "source": [
    "## **Assignment Instructions**"
   ]
  },
  {
   "cell_type": "markdown",
   "metadata": {
    "id": "s-iBIogYvxAP"
   },
   "source": [
    "* **How to install 'otter'**: Run `pip install otter-grader` in your Anaconda Command Prompt\n",
    "* **Otter**: It is an autograder that we will be using for grading your notebooks.\n",
    "* **grader.check('qn')**: This command runs test cases for nth question `qn` provided to you and displays the result. But these are not the only test cases, these are provided just for your basic testing. There will be some *hidden test cases* on which your answers will be tested as well.\n",
    "* You are **not** allowed to edit any pre-defined variables and as per the instructions for every question you have to assign your answers to these variables.\n",
    "* Write your answers in place of `...`\n",
    "* **How to run this on google colab**: Uncomment the below code and replace wherever necessary to run this assignment on google colab (only if you want to - jupyter notebooks work just fine)"
   ]
  },
  {
   "cell_type": "code",
   "execution_count": 2,
   "metadata": {},
   "outputs": [],
   "source": [
    "#Linking google colab to your drive folder\n",
    "#from google.colab import drive\n",
    "#drive.mount('/content/gdrive', force_remount=True)"
   ]
  },
  {
   "cell_type": "code",
   "execution_count": 3,
   "metadata": {},
   "outputs": [],
   "source": [
    "#Replace 'Assignment 2 DS' with the path of the folder of your assignment\n",
    "#%cd /content/gdrive/My\\ Drive/Assignment 2 DS"
   ]
  },
  {
   "cell_type": "markdown",
   "metadata": {
    "id": "z8U7LmpGv5HZ"
   },
   "source": [
    "## **Submission Instructions**"
   ]
  },
  {
   "cell_type": "markdown",
   "metadata": {
    "id": "Gfref2KswE8C"
   },
   "source": [
    "* There are two parts of this assignment. You should name both notebooks as **YourRollNumber_PartNumber.ipynb**. (e.g. this part should be named as *`2XXXXXXX_2.ipynb`*)\n",
    "* You must submit a zip file containg just two notebooks and it must not has any folder or any other file. \n",
    "* The name of the zip file must be your `Roll Number`"
   ]
  },
  {
   "cell_type": "markdown",
   "metadata": {
    "id": "ZZnp_8qEMQMa"
   },
   "source": [
    "## **Grading**"
   ]
  },
  {
   "cell_type": "markdown",
   "metadata": {
    "id": "TcROlKnaMRWk"
   },
   "source": [
    "Grading is broken down into autograded answers and free response.\n",
    "\n",
    "* For autograded answers, the results of your code are compared to provided and/or hidden tests.\n",
    "\n",
    "* For free response, readers will evaluate how well you answered the question and/or fulfilled the requirements of the question.\n",
    "\n",
    "* **Note that for ALL plotting questions from here on out, we will expect appropriate titles, axis labels, legends, etc. The following question serves as a good guideline on what is \"enough\": If I directly downloaded the plot and viewed it, would I be able to tell what was being visualized without knowing the question?**\n"
   ]
  },
  {
   "cell_type": "markdown",
   "metadata": {
    "id": "ZFLz2WUgD5Eg"
   },
   "source": [
    "# **World Happiness Report**"
   ]
  },
  {
   "cell_type": "markdown",
   "metadata": {
    "id": "3ViBr4qFEAWV"
   },
   "source": [
    "## **Introduction**"
   ]
  },
  {
   "cell_type": "markdown",
   "metadata": {
    "id": "W-RZpZOwENWK"
   },
   "source": [
    "Happiness has always been one of those fluctuating emotional states for humans, perhaps more so in light of recent events. With reports by 'World Happiness Report', publication of the Sustainable Development Solutions Network, coming in every year, you have decided to embark on a journey to uncover just how happy the citizens of countries around the world perceive themselves to be. \n",
    "\n",
    "But how can happiness be measured? Are there reliable comparisons of happiness across time and space that can give us clues regarding what makes people or even countries to declare themselves as ‘happy’? Well, this is exactly what our task is.\n",
    "\n",
    "In this assignment, we aim to analyse the data and empirical evidence that might answer these questions. Our focus here will be on survey-based measures of self-reported happiness and life satisfaction. \n",
    "\n"
   ]
  },
  {
   "cell_type": "markdown",
   "metadata": {
    "id": "oztY39kLMnQk"
   },
   "source": [
    "## **Importing Libraries**"
   ]
  },
  {
   "cell_type": "code",
   "execution_count": 81,
   "metadata": {
    "colab": {
     "base_uri": "https://localhost:8080/",
     "height": 72
    },
    "executionInfo": {
     "elapsed": 48519,
     "status": "ok",
     "timestamp": 1602304669162,
     "user": {
      "displayName": "Mehreen Masood",
      "photoUrl": "",
      "userId": "17408234481715224398"
     },
     "user_tz": -300
    },
    "id": "E9Uz1F6BMjcA",
    "outputId": "bca1b806-4be7-471c-8133-54e6f58e841d"
   },
   "outputs": [],
   "source": [
    "import pandas as pd\n",
    "import numpy as np\n",
    "import matplotlib.pyplot as plt\n",
    "from matplotlib import pyplot\n",
    "import seaborn as sns\n",
    "sns.set(style='ticks', palette='RdBu')\n",
    "from statsmodels.graphics.gofplots import qqplot"
   ]
  },
  {
   "cell_type": "markdown",
   "metadata": {
    "id": "WUQdLrulMqrd"
   },
   "source": [
    "## **Loading Data**"
   ]
  },
  {
   "cell_type": "code",
   "execution_count": 5,
   "metadata": {
    "colab": {
     "base_uri": "https://localhost:8080/",
     "height": 439
    },
    "executionInfo": {
     "elapsed": 49050,
     "status": "error",
     "timestamp": 1602304669708,
     "user": {
      "displayName": "Mehreen Masood",
      "photoUrl": "",
      "userId": "17408234481715224398"
     },
     "user_tz": -300
    },
    "id": "m43AbvU2MvBB",
    "outputId": "bcc4b622-821c-4886-bc27-6df4876f5a08"
   },
   "outputs": [],
   "source": [
    "df_2015 = pd.read_pickle('cleaned_2015.pkl')\n",
    "df_2017 = pd.read_pickle('cleaned_2017.pkl')\n",
    "df_2019 = pd.read_pickle('cleaned_2019.pkl')"
   ]
  },
  {
   "cell_type": "markdown",
   "metadata": {
    "id": "YQs3Zv9MsrBa"
   },
   "source": [
    "## **Exploratory Data Analysis**"
   ]
  },
  {
   "cell_type": "markdown",
   "metadata": {
    "id": "1oPCsifzthCA"
   },
   "source": [
    "### **EDA Part 1: Distributions**"
   ]
  },
  {
   "cell_type": "markdown",
   "metadata": {
    "id": "FAGzZ8DhtqDA"
   },
   "source": [
    "In reality, data is not always spread consistently. One of the reasons might be that there is not sufficient information available from one group of data. Another reason might be that if data is collected through forms/devices then some people might choose to not enter the data or the device might be faulty. Hence, we need to know whether there is any feature in the data which is skewed."
   ]
  },
  {
   "cell_type": "markdown",
   "metadata": {},
   "source": [
    "Are there any variables across all years which are skewed?"
   ]
  },
  {
   "cell_type": "markdown",
   "metadata": {
    "deletable": false,
    "editable": false,
    "id": "fXGR299NuNUD"
   },
   "source": [
    "<!-- BEGIN QUESTION -->\n",
    "\n",
    "**Question 1:** Use kernel estimation density plots to observe the skewness in each variable across the three years: 2015, 2017 and 2019. If you think there is any variable that does not need to be plotted, leave a rationale for it in the form of a comment before the graphs code.\n",
    "\n",
    "*Tip: You can use for loops to keep your code concise*\n",
    "\n",
    "*Answering Guidelines*: Follow the instructions given in the 'Grading' section with regards to plots. Make sure each variable has **one** figure, displaying the skewness for the three years mentioned above in the same figure.  \n",
    "\n",
    "<!--\n",
    "BEGIN QUESTION\n",
    "name: q1\n",
    "points: 8\n",
    "manual: true\n",
    "-->"
   ]
  },
  {
   "cell_type": "code",
   "execution_count": null,
   "metadata": {
    "executionInfo": {
     "elapsed": 48876,
     "status": "aborted",
     "timestamp": 1602304669680,
     "user": {
      "displayName": "Mehreen Masood",
      "photoUrl": "",
      "userId": "17408234481715224398"
     },
     "user_tz": -300
    },
    "id": "vJ50ov6vtgB_"
   },
   "outputs": [],
   "source": [
    "## solution ##\n",
    "#country doesn't need to be plotted as it serves as an identifier and is unique for each row\n",
    "#region\n",
    "#for columns in ['GDP_per_capita', 'social_support', 'life_expectancy', 'freedom', 'generosity', 'trust']:\n",
    "for frame in [df_2015, df_2017, df_2019]:\n",
    "    for year in [2015, 2017, 2019]:\n",
    "        ax = frame.plot(kind='kde', x='GDP_per_capita', label=year, bw_method=0.3)\n",
    "        ax"
   ]
  },
  {
   "cell_type": "markdown",
   "metadata": {
    "deletable": false,
    "editable": false
   },
   "source": [
    "<!-- END QUESTION -->\n",
    "\n",
    "**Question 2:** Calculate skew values for each variable using an appropriate function.\n",
    "\n",
    "*Answering Guidelines*: Assign the skew values for each dataframe to the placeholders given below in the code cell. \n",
    "\n",
    "<!--\n",
    "BEGIN QUESTION\n",
    "name: q2\n",
    "points: 3\n",
    "-->"
   ]
  },
  {
   "cell_type": "code",
   "execution_count": null,
   "metadata": {},
   "outputs": [],
   "source": [
    "df_2015_skew = ...\n",
    "df_2017_skew = ...\n",
    "df_2019_skew = ..."
   ]
  },
  {
   "cell_type": "code",
   "execution_count": null,
   "metadata": {
    "deletable": false,
    "editable": false
   },
   "outputs": [],
   "source": [
    "grader.check(\"q2\")"
   ]
  },
  {
   "cell_type": "markdown",
   "metadata": {
    "deletable": false,
    "editable": false
   },
   "source": [
    "<!-- BEGIN QUESTION -->\n",
    "\n",
    "*Question 3:* **Briefly** comment on the type of skewness of each variable. \n",
    "\n",
    "*Answering Guidelines*: As shown by the plots in the previous question, you need not differentiate variables year-wise while commenting on whether a certain variable is right or left skewed since there is consistency in this pattern. A placeholder for your answer has been made - simply add your answer in the markdown cell below as instructed.\n",
    "<!--\n",
    "BEGIN QUESTION\n",
    "name: q3\n",
    "points: 2\n",
    "manual: true\n",
    "-->"
   ]
  },
  {
   "cell_type": "markdown",
   "metadata": {},
   "source": [
    "_Type your answer here, replacing this text._"
   ]
  },
  {
   "cell_type": "markdown",
   "metadata": {
    "id": "VhkNmuqQvCSI"
   },
   "source": [
    "<!-- END QUESTION -->\n",
    "\n",
    "\n",
    "\n",
    "### **EDA Part 2: Happiness in 2019**"
   ]
  },
  {
   "cell_type": "markdown",
   "metadata": {
    "id": "QpCb8oMnz83i"
   },
   "source": [
    "It's common knowledge that Scandinivia and some other parts of Western Europe consist of countries that are ranked high in happiness, whereas some countries belonging to regions like Africa or Asia are far from being labelled happy. However, the reason we asked you to incorporate the *regions* column into 2019, is to enable you to resolve your curosity of what the world looked like in terms of happiness in 2019.\n"
   ]
  },
  {
   "cell_type": "markdown",
   "metadata": {
    "id": "WLrt3eRrvNUN"
   },
   "source": [
    "#### **2A: Region Wise Analysis**"
   ]
  },
  {
   "cell_type": "markdown",
   "metadata": {
    "deletable": false,
    "editable": false,
    "id": "fd-B461yygZ1"
   },
   "source": [
    "<!-- BEGIN QUESTION -->\n",
    "\n",
    "**Question 4:** Make use of a bar plot to plot the Happiness Score for all regions across the world. Add a horizontal line for average happiness score on the plot. \n",
    "\n",
    "*Answering Guidelines*: Follow the instructions given in the 'Grading' section with regards to plots.\n",
    "\n",
    "<!--\n",
    "BEGIN QUESTION\n",
    "name: q4_1\n",
    "points: 3\n",
    "manual: true\n",
    "-->"
   ]
  },
  {
   "cell_type": "code",
   "execution_count": null,
   "metadata": {},
   "outputs": [],
   "source": [
    "## solution ##\n",
    "df = df_2019.groupby(['region']).mean()\n",
    "df.reset_index(inplace=True)\n",
    "ax = df.plot.bar(x='region', y='score')\n",
    "ax.axhline(df_2019['score'].mean(), color='green', linewidth=2, label='average happiness')\n",
    "ax"
   ]
  },
  {
   "cell_type": "markdown",
   "metadata": {
    "deletable": false,
    "editable": false
   },
   "source": [
    "<!-- END QUESTION -->\n",
    "\n",
    "<!-- BEGIN QUESTION -->\n",
    "\n",
    "Comment on whether you think the world is a happy place? \n",
    "\n",
    "*Answering Guidelines*: a placeholder for your answer has been made - simply add your answer in the markdown cell below as instructed.\n",
    "\n",
    "<!--\n",
    "BEGIN QUESTION\n",
    "name: q4_2\n",
    "points: 1\n",
    "manual: true\n",
    "-->"
   ]
  },
  {
   "cell_type": "markdown",
   "metadata": {},
   "source": [
    "I would say no since some of the most populated regions in the world have lower than average happiness and the score variable is skewed raising the average."
   ]
  },
  {
   "cell_type": "markdown",
   "metadata": {
    "deletable": false,
    "editable": false,
    "id": "wZUmiuUIxUMM"
   },
   "source": [
    "<!-- END QUESTION -->\n",
    "\n",
    "<!-- BEGIN QUESTION -->\n",
    "\n",
    "**Question 5:** Make use of a Box Plot to get a complete picture of the variation in Happiness Score across regions.\n",
    "\n",
    "*Answering Guidelines*: Follow the instructions given in the 'Grading' section with regards to plots.\n",
    "\n",
    "<!--\n",
    "BEGIN QUESTION\n",
    "name: q5\n",
    "points: 2\n",
    "manual: true\n",
    "-->"
   ]
  },
  {
   "cell_type": "code",
   "execution_count": null,
   "metadata": {},
   "outputs": [],
   "source": [
    "## solution ##\n",
    "ax2 = df_2019.boxplot(column='score', by='region', rot=90)\n",
    "ax2"
   ]
  },
  {
   "cell_type": "markdown",
   "metadata": {
    "deletable": false,
    "editable": false,
    "id": "tz0k4OzoyuVF"
   },
   "source": [
    "<!-- END QUESTION -->\n",
    "\n",
    "<!-- BEGIN QUESTION -->\n",
    "\n",
    "**Question 6:** Use the most suitable visualization to display the number of countries within each region. Leave your rationale in the form of a comment in the same code cell.\n",
    "\n",
    "*Answering Guidelines*: Follow the instructions given in the 'Grading' section with regards to plots. \n",
    "\n",
    "<!--\n",
    "BEGIN QUESTION\n",
    "name: q6\n",
    "points: 2\n",
    "manual: true\n",
    "-->"
   ]
  },
  {
   "cell_type": "code",
   "execution_count": null,
   "metadata": {},
   "outputs": [],
   "source": [
    "## solution ##\n",
    "df2 = df_2019.groupby(['region']).count()\n",
    "df2.reset_index(inplace=True)\n",
    "ax3 = df2.plot.bar(x='region', y='country')\n",
    "ax3"
   ]
  },
  {
   "cell_type": "markdown",
   "metadata": {
    "deletable": false,
    "editable": false,
    "id": "InwBoq_dzWVc"
   },
   "source": [
    "<!-- END QUESTION -->\n",
    "\n",
    "<!-- BEGIN QUESTION -->\n",
    "\n",
    "**Question 7:** Using the visualizations above, comment on whether comparing happiness region-wise is a good idea? What do the results suggest?\n",
    "\n",
    "*Answering Guidelines*: a placeholder for your answer has been made - simply add your answer in the markdown cell below as instructed.\n",
    "\n",
    "<!--\n",
    "BEGIN QUESTION\n",
    "name: q7\n",
    "points: 1\n",
    "manual: true\n",
    "-->"
   ]
  },
  {
   "cell_type": "markdown",
   "metadata": {},
   "source": [
    "No, because not each region is equally represented since there are very few countries from some regions in our dataset."
   ]
  },
  {
   "cell_type": "markdown",
   "metadata": {
    "id": "tIWVQXuqz0Rr"
   },
   "source": [
    "<!-- END QUESTION -->\n",
    "\n",
    "\n",
    "\n",
    "#### **2B: Country Wise Analysis**"
   ]
  },
  {
   "cell_type": "markdown",
   "metadata": {
    "deletable": false,
    "editable": false,
    "id": "6Rk-gwleCGcW"
   },
   "source": [
    "<!-- BEGIN QUESTION -->\n",
    "\n",
    "**Question 8:** Make use of a bar plot to display the Happiness Score for the top 10 happiest countries across the world in descending order of happiness score. \n",
    "\n",
    "*Answering Guidelines*: Follow the instructions given in the 'Grading' section with regards to plots. \n",
    "\n",
    "<!--\n",
    "BEGIN QUESTION\n",
    "name: q8\n",
    "points: 2\n",
    "manual: true\n",
    "-->"
   ]
  },
  {
   "cell_type": "code",
   "execution_count": 7,
   "metadata": {},
   "outputs": [
    {
     "data": {
      "text/plain": [
       "<matplotlib.axes._subplots.AxesSubplot at 0x214a3760af0>"
      ]
     },
     "execution_count": 7,
     "metadata": {},
     "output_type": "execute_result"
    },
    {
     "data": {
      "image/png": "[encoded data removed]",
      "text/plain": [
       "<Figure size 432x288 with 1 Axes>"
      ]
     },
     "metadata": {
      "needs_background": "light"
     },
     "output_type": "display_data"
    }
   ],
   "source": [
    "## solution ##\n",
    "df3 = df_2019.sort_values(by='score', ascending=False).head(10)\n",
    "ax4 = df3.plot.bar(x='country', y='score', rot=90, logy=True)\n",
    "ax4"
   ]
  },
  {
   "cell_type": "markdown",
   "metadata": {
    "deletable": false,
    "editable": false,
    "id": "nv9g9_bKCgLJ"
   },
   "source": [
    "<!-- END QUESTION -->\n",
    "\n",
    "<!-- BEGIN QUESTION -->\n",
    "\n",
    "**Question 9:** State the country that looks the most happy and suggest reasons as to why it maybe so.\n",
    "\n",
    "*Answering Guidelines*: \n",
    "* A placeholder for your answer has been made - simply add your answer in the markdown cell below as instructed.\n",
    "* You need not consult the data specifically for reasons - answer as if you are building an intuition for what could the possible reasons be.\n",
    "\n",
    "\n",
    "<!--\n",
    "BEGIN QUESTION\n",
    "name: q9\n",
    "points: 1\n",
    "manual: true\n",
    "-->"
   ]
  },
  {
   "cell_type": "markdown",
   "metadata": {},
   "source": [
    "Finland. It seems to have one of the highest scores for how trustworthy the citizens think their government is. Since it ranks lower on other factors, this seems to be a likely reason for the high happiness score."
   ]
  },
  {
   "cell_type": "markdown",
   "metadata": {
    "deletable": false,
    "editable": false,
    "id": "X2CM5yRShdDP"
   },
   "source": [
    "<!-- END QUESTION -->\n",
    "\n",
    "<!-- BEGIN QUESTION -->\n",
    "\n",
    "**Question 10:** Make use of a bar plot to display the Happiness Score for the 10 least happy countries across the world in descending order of happiness score. \n",
    "\n",
    "*Answering Guidelines*: Follow the instructions given in the 'Grading' section with regards to plots. \n",
    "\n",
    "<!--\n",
    "BEGIN QUESTION\n",
    "name: q10\n",
    "points: 2\n",
    "manual: true\n",
    "-->"
   ]
  },
  {
   "cell_type": "code",
   "execution_count": 8,
   "metadata": {},
   "outputs": [
    {
     "data": {
      "text/plain": [
       "<matplotlib.axes._subplots.AxesSubplot at 0x214a3840ee0>"
      ]
     },
     "execution_count": 8,
     "metadata": {},
     "output_type": "execute_result"
    },
    {
     "data": {
      "image/png": "[encoded data removed]",
      "text/plain": [
       "<Figure size 432x288 with 1 Axes>"
      ]
     },
     "metadata": {
      "needs_background": "light"
     },
     "output_type": "display_data"
    }
   ],
   "source": [
    "## solution ##\n",
    "df4 = df_2019.sort_values(by='score', ascending=False).tail(10)\n",
    "ax5 = df4.plot.bar(x='country', y='score', rot=90, logy=True)\n",
    "ax5"
   ]
  },
  {
   "cell_type": "markdown",
   "metadata": {
    "deletable": false,
    "editable": false,
    "id": "n8Iaa41tCrSk"
   },
   "source": [
    "<!-- END QUESTION -->\n",
    "\n",
    "<!-- BEGIN QUESTION -->\n",
    "\n",
    "**Question 11:** State the country that looks the least happy and suggest reasons as to why it may be so?\n",
    "\n",
    "*Answering Guidelines*: \n",
    "* A placeholder for your answer has been made - simply add your answer in the markdown cell below as instructed.\n",
    "* You need not consult the data specifically for reasons - answer as if you are building an intuition for what could the possible reasons be.\n",
    "\n",
    "<!--\n",
    "BEGIN QUESTION\n",
    "name: q11\n",
    "points: 1\n",
    "manual: true\n",
    "-->"
   ]
  },
  {
   "cell_type": "markdown",
   "metadata": {},
   "source": [
    "Central African Republic. It has very low scores for social support and trust in the government. Citizens seem to have a general mistrust in both family and institutions."
   ]
  },
  {
   "cell_type": "markdown",
   "metadata": {
    "id": "6sZXsPvkC2A6"
   },
   "source": [
    "<!-- END QUESTION -->\n",
    "\n",
    "\n",
    "\n",
    "Now that you've carefully thought about the underlying reasons behind the previously shown variations in happiness, it is time for you to use the data to come up with possible reasons and factors.\n"
   ]
  },
  {
   "cell_type": "markdown",
   "metadata": {
    "deletable": false,
    "editable": false,
    "id": "h1jw770_ESvR"
   },
   "source": [
    "<!-- BEGIN QUESTION -->\n",
    "\n",
    "**Question 12:** Show the relationship between all the variables in the form of a correlation matrix.\n",
    "\n",
    "*Answering Guidelines*: Follow the instructions given in the 'Grading' section with regards to plots. We do not expect you to be well versed with correlation coefficients so feel free to skip that detail for now.\n",
    "\n",
    "<!--\n",
    "BEGIN QUESTION\n",
    "name: q12\n",
    "points: 2\n",
    "manual: true\n",
    "-->"
   ]
  },
  {
   "cell_type": "code",
   "execution_count": 9,
   "metadata": {},
   "outputs": [
    {
     "data": {
      "text/plain": [
       "<matplotlib.axes._subplots.AxesSubplot at 0x214a39fdd60>"
      ]
     },
     "execution_count": 9,
     "metadata": {},
     "output_type": "execute_result"
    },
    {
     "data": {
      "image/png": "[encoded data removed]",
      "text/plain": [
       "<Figure size 432x288 with 2 Axes>"
      ]
     },
     "metadata": {
      "needs_background": "light"
     },
     "output_type": "display_data"
    }
   ],
   "source": [
    "## solution ##\n",
    "corrmatrix = df_2019.corr()\n",
    "sn.heatmap(corrmatrix, annot=True)"
   ]
  },
  {
   "cell_type": "markdown",
   "metadata": {
    "deletable": false,
    "editable": false
   },
   "source": [
    "<!-- END QUESTION -->\n",
    "\n",
    "<!-- BEGIN QUESTION -->\n",
    "\n",
    "**Question 13:** What does the output above indicate? Briefly indicate which relationships seem significant, and describe how so (linear, positive, negative etc). \n",
    "\n",
    "*Tip:* The following article is a good read: https://www.statology.org/how-to-read-a-correlation-matrix/\n",
    "\n",
    "*Answering Guidelines*: A placeholder for your answer has been made - simply add your answer in the markdown cell below as instructed and make sure to clearly show your rationale.\n",
    "\n",
    "<!--\n",
    "BEGIN QUESTION\n",
    "name: q13\n",
    "points: 3\n",
    "manual: true\n",
    "-->"
   ]
  },
  {
   "cell_type": "markdown",
   "metadata": {},
   "source": [
    "Score has a strong, positive linear relationship with GDP_per_capita, social support and life expectancy. It is weakly positively correlated with freedom, generosity and trust."
   ]
  },
  {
   "cell_type": "markdown",
   "metadata": {
    "deletable": false,
    "editable": false,
    "id": "9vTmqNblDPFB"
   },
   "source": [
    "<!-- END QUESTION -->\n",
    "\n",
    "<!-- BEGIN QUESTION -->\n",
    "\n",
    "**Question 14:** Another way of visualizing relationships is using scatterplots. Use scatterplots to display how Happiness Score is affected every other variable in the data.\n",
    "\n",
    "*Answering Guidelines*: \n",
    "* Follow the instructions given in the 'Grading' section with regards to plots. \n",
    "* Make sure to display every variable against Happiness score.\n",
    "* Make use of a for loop or subplots to display all the plots through one code cell.\n",
    "<!--\n",
    "BEGIN QUESTION\n",
    "name: q14\n",
    "points: 14\n",
    "manual: true\n",
    "-->"
   ]
  },
  {
   "cell_type": "code",
   "execution_count": 10,
   "metadata": {
    "scrolled": true
   },
   "outputs": [
    {
     "data": {
      "image/png": "[encoded data removed]",
      "text/plain": [
       "<Figure size 432x288 with 1 Axes>"
      ]
     },
     "metadata": {
      "needs_background": "light"
     },
     "output_type": "display_data"
    },
    {
     "data": {
      "image/png": "[encoded data removed]",
      "text/plain": [
       "<Figure size 432x288 with 1 Axes>"
      ]
     },
     "metadata": {
      "needs_background": "light"
     },
     "output_type": "display_data"
    },
    {
     "data": {
      "image/png": "[encoded data removed]",
      "text/plain": [
       "<Figure size 432x288 with 1 Axes>"
      ]
     },
     "metadata": {
      "needs_background": "light"
     },
     "output_type": "display_data"
    },
    {
     "data": {
      "image/png": "[encoded data removed]",
      "text/plain": [
       "<Figure size 432x288 with 1 Axes>"
      ]
     },
     "metadata": {
      "needs_background": "light"
     },
     "output_type": "display_data"
    },
    {
     "data": {
      "image/png": "[encoded data removed]",
      "text/plain": [
       "<Figure size 432x288 with 1 Axes>"
      ]
     },
     "metadata": {
      "needs_background": "light"
     },
     "output_type": "display_data"
    },
    {
     "data": {
      "image/png": "[encoded data removed]",
      "text/plain": [
       "<Figure size 432x288 with 1 Axes>"
      ]
     },
     "metadata": {
      "needs_background": "light"
     },
     "output_type": "display_data"
    }
   ],
   "source": [
    "## solution ##\n",
    "for columns in [\"GDP_per_capita\", \"social_support\", \"life_expectancy\", \"freedom\", \"generosity\", \"trust\"]:\n",
    "    ax = df_2019.plot.scatter(x=columns, y='score')\n",
    "    ax"
   ]
  },
  {
   "cell_type": "markdown",
   "metadata": {
    "id": "-Uo5BWpIFfhg"
   },
   "source": [
    "<!-- END QUESTION -->\n",
    "\n",
    "\n",
    "\n",
    "#### **2C: A Trip To The Past**"
   ]
  },
  {
   "cell_type": "markdown",
   "metadata": {
    "id": "rOqtscZiFvc5"
   },
   "source": [
    "Now that you have fairly understood the trend in happiness score within a single year, it is time to take a look at what's been happening over the past 4 years - were the countries always this happy/sad? \n",
    "\n",
    "The task at hand is to compare the trend of the happiness score for the top 10 happiest countries in 2019 over the last 4 years."
   ]
  },
  {
   "cell_type": "markdown",
   "metadata": {
    "deletable": false,
    "editable": false,
    "id": "intlQqZJF9YS"
   },
   "source": [
    "**Question 15:** Extract the top 10 happiest countries from the 2019 dataset and combine their happiness scores from 2017 and 2015, all in one dataset.\n",
    "\n",
    "*Answering Guidelines*: \n",
    "* ```history``` must have an additional 'year' columns which contains information of which year the particular data point is from. Feel free to add such a column since it is not part of your original dataset.\n",
    "* ```history``` must have three data points corresponding to the three years for every country.\n",
    "* Make sure there are no extra columns while making the ```history``` table. If such columns make it to the table, make sure to drop them.\n",
    "\n",
    "<!--\n",
    "BEGIN QUESTION\n",
    "name: q15\n",
    "points: 5\n",
    "-->"
   ]
  },
  {
   "cell_type": "code",
   "execution_count": 34,
   "metadata": {
    "executionInfo": {
     "elapsed": 48810,
     "status": "aborted",
     "timestamp": 1602304669703,
     "user": {
      "displayName": "Mehreen Masood",
      "photoUrl": "",
      "userId": "17408234481715224398"
     },
     "user_tz": -300
    },
    "id": "t_LV4JIPGJPY"
   },
   "outputs": [
    {
     "data": {
      "text/html": [
       "<div>\n",
       "<style scoped>\n",
       "    .dataframe tbody tr th:only-of-type {\n",
       "        vertical-align: middle;\n",
       "    }\n",
       "\n",
       "    .dataframe tbody tr th {\n",
       "        vertical-align: top;\n",
       "    }\n",
       "\n",
       "    .dataframe thead th {\n",
       "        text-align: right;\n",
       "    }\n",
       "</style>\n",
       "<table border=\"1\" class=\"dataframe\">\n",
       "  <thead>\n",
       "    <tr style=\"text-align: right;\">\n",
       "      <th></th>\n",
       "      <th>rank</th>\n",
       "      <th>country</th>\n",
       "      <th>score</th>\n",
       "      <th>GDP_per_capita</th>\n",
       "      <th>social_support</th>\n",
       "      <th>life_expectancy</th>\n",
       "      <th>freedom</th>\n",
       "      <th>generosity</th>\n",
       "      <th>trust</th>\n",
       "      <th>region</th>\n",
       "      <th>year</th>\n",
       "    </tr>\n",
       "  </thead>\n",
       "  <tbody>\n",
       "    <tr>\n",
       "      <th>0</th>\n",
       "      <td>1</td>\n",
       "      <td>Finland</td>\n",
       "      <td>7.769</td>\n",
       "      <td>1.340000</td>\n",
       "      <td>1.587000</td>\n",
       "      <td>0.986000</td>\n",
       "      <td>0.596000</td>\n",
       "      <td>0.153000</td>\n",
       "      <td>0.393000</td>\n",
       "      <td>Western Europe</td>\n",
       "      <td>2019</td>\n",
       "    </tr>\n",
       "    <tr>\n",
       "      <th>1</th>\n",
       "      <td>2</td>\n",
       "      <td>Denmark</td>\n",
       "      <td>7.600</td>\n",
       "      <td>1.383000</td>\n",
       "      <td>1.573000</td>\n",
       "      <td>0.996000</td>\n",
       "      <td>0.592000</td>\n",
       "      <td>0.252000</td>\n",
       "      <td>0.410000</td>\n",
       "      <td>Western Europe</td>\n",
       "      <td>2019</td>\n",
       "    </tr>\n",
       "    <tr>\n",
       "      <th>2</th>\n",
       "      <td>3</td>\n",
       "      <td>Norway</td>\n",
       "      <td>7.554</td>\n",
       "      <td>1.488000</td>\n",
       "      <td>1.582000</td>\n",
       "      <td>1.028000</td>\n",
       "      <td>0.603000</td>\n",
       "      <td>0.271000</td>\n",
       "      <td>0.341000</td>\n",
       "      <td>Western Europe</td>\n",
       "      <td>2019</td>\n",
       "    </tr>\n",
       "    <tr>\n",
       "      <th>3</th>\n",
       "      <td>4</td>\n",
       "      <td>Iceland</td>\n",
       "      <td>7.494</td>\n",
       "      <td>1.380000</td>\n",
       "      <td>1.624000</td>\n",
       "      <td>1.026000</td>\n",
       "      <td>0.591000</td>\n",
       "      <td>0.354000</td>\n",
       "      <td>0.118000</td>\n",
       "      <td>Western Europe</td>\n",
       "      <td>2019</td>\n",
       "    </tr>\n",
       "    <tr>\n",
       "      <th>4</th>\n",
       "      <td>5</td>\n",
       "      <td>Netherlands</td>\n",
       "      <td>7.488</td>\n",
       "      <td>1.396000</td>\n",
       "      <td>1.522000</td>\n",
       "      <td>0.999000</td>\n",
       "      <td>0.557000</td>\n",
       "      <td>0.322000</td>\n",
       "      <td>0.298000</td>\n",
       "      <td>Western Europe</td>\n",
       "      <td>2019</td>\n",
       "    </tr>\n",
       "    <tr>\n",
       "      <th>5</th>\n",
       "      <td>6</td>\n",
       "      <td>Switzerland</td>\n",
       "      <td>7.480</td>\n",
       "      <td>1.452000</td>\n",
       "      <td>1.526000</td>\n",
       "      <td>1.052000</td>\n",
       "      <td>0.572000</td>\n",
       "      <td>0.263000</td>\n",
       "      <td>0.343000</td>\n",
       "      <td>Western Europe</td>\n",
       "      <td>2019</td>\n",
       "    </tr>\n",
       "    <tr>\n",
       "      <th>6</th>\n",
       "      <td>7</td>\n",
       "      <td>Sweden</td>\n",
       "      <td>7.343</td>\n",
       "      <td>1.387000</td>\n",
       "      <td>1.487000</td>\n",
       "      <td>1.009000</td>\n",
       "      <td>0.574000</td>\n",
       "      <td>0.267000</td>\n",
       "      <td>0.373000</td>\n",
       "      <td>Western Europe</td>\n",
       "      <td>2019</td>\n",
       "    </tr>\n",
       "    <tr>\n",
       "      <th>7</th>\n",
       "      <td>8</td>\n",
       "      <td>New Zealand</td>\n",
       "      <td>7.307</td>\n",
       "      <td>1.303000</td>\n",
       "      <td>1.557000</td>\n",
       "      <td>1.026000</td>\n",
       "      <td>0.585000</td>\n",
       "      <td>0.330000</td>\n",
       "      <td>0.380000</td>\n",
       "      <td>Australia and New Zealand</td>\n",
       "      <td>2019</td>\n",
       "    </tr>\n",
       "    <tr>\n",
       "      <th>8</th>\n",
       "      <td>9</td>\n",
       "      <td>Canada</td>\n",
       "      <td>7.278</td>\n",
       "      <td>1.365000</td>\n",
       "      <td>1.505000</td>\n",
       "      <td>1.039000</td>\n",
       "      <td>0.584000</td>\n",
       "      <td>0.285000</td>\n",
       "      <td>0.308000</td>\n",
       "      <td>North America</td>\n",
       "      <td>2019</td>\n",
       "    </tr>\n",
       "    <tr>\n",
       "      <th>9</th>\n",
       "      <td>10</td>\n",
       "      <td>Austria</td>\n",
       "      <td>7.246</td>\n",
       "      <td>1.376000</td>\n",
       "      <td>1.475000</td>\n",
       "      <td>1.016000</td>\n",
       "      <td>0.532000</td>\n",
       "      <td>0.244000</td>\n",
       "      <td>0.226000</td>\n",
       "      <td>Western Europe</td>\n",
       "      <td>2019</td>\n",
       "    </tr>\n",
       "    <tr>\n",
       "      <th>0</th>\n",
       "      <td>1</td>\n",
       "      <td>Norway</td>\n",
       "      <td>7.537</td>\n",
       "      <td>1.616463</td>\n",
       "      <td>1.533524</td>\n",
       "      <td>0.796667</td>\n",
       "      <td>0.635423</td>\n",
       "      <td>0.362012</td>\n",
       "      <td>0.315964</td>\n",
       "      <td>Western Europe</td>\n",
       "      <td>2017</td>\n",
       "    </tr>\n",
       "    <tr>\n",
       "      <th>1</th>\n",
       "      <td>2</td>\n",
       "      <td>Denmark</td>\n",
       "      <td>7.522</td>\n",
       "      <td>1.482383</td>\n",
       "      <td>1.551122</td>\n",
       "      <td>0.792566</td>\n",
       "      <td>0.626007</td>\n",
       "      <td>0.355280</td>\n",
       "      <td>0.400770</td>\n",
       "      <td>Western Europe</td>\n",
       "      <td>2017</td>\n",
       "    </tr>\n",
       "    <tr>\n",
       "      <th>2</th>\n",
       "      <td>3</td>\n",
       "      <td>Iceland</td>\n",
       "      <td>7.504</td>\n",
       "      <td>1.480633</td>\n",
       "      <td>1.610574</td>\n",
       "      <td>0.833552</td>\n",
       "      <td>0.627163</td>\n",
       "      <td>0.475540</td>\n",
       "      <td>0.153527</td>\n",
       "      <td>Western Europe</td>\n",
       "      <td>2017</td>\n",
       "    </tr>\n",
       "    <tr>\n",
       "      <th>3</th>\n",
       "      <td>4</td>\n",
       "      <td>Switzerland</td>\n",
       "      <td>7.494</td>\n",
       "      <td>1.564980</td>\n",
       "      <td>1.516912</td>\n",
       "      <td>0.858131</td>\n",
       "      <td>0.620071</td>\n",
       "      <td>0.290549</td>\n",
       "      <td>0.367007</td>\n",
       "      <td>Western Europe</td>\n",
       "      <td>2017</td>\n",
       "    </tr>\n",
       "    <tr>\n",
       "      <th>4</th>\n",
       "      <td>5</td>\n",
       "      <td>Finland</td>\n",
       "      <td>7.469</td>\n",
       "      <td>1.443572</td>\n",
       "      <td>1.540247</td>\n",
       "      <td>0.809158</td>\n",
       "      <td>0.617951</td>\n",
       "      <td>0.245483</td>\n",
       "      <td>0.382612</td>\n",
       "      <td>Western Europe</td>\n",
       "      <td>2017</td>\n",
       "    </tr>\n",
       "    <tr>\n",
       "      <th>5</th>\n",
       "      <td>6</td>\n",
       "      <td>Netherlands</td>\n",
       "      <td>7.377</td>\n",
       "      <td>1.503945</td>\n",
       "      <td>1.428939</td>\n",
       "      <td>0.810696</td>\n",
       "      <td>0.585384</td>\n",
       "      <td>0.470490</td>\n",
       "      <td>0.282662</td>\n",
       "      <td>Western Europe</td>\n",
       "      <td>2017</td>\n",
       "    </tr>\n",
       "    <tr>\n",
       "      <th>6</th>\n",
       "      <td>7</td>\n",
       "      <td>Canada</td>\n",
       "      <td>7.316</td>\n",
       "      <td>1.479204</td>\n",
       "      <td>1.481349</td>\n",
       "      <td>0.834558</td>\n",
       "      <td>0.611101</td>\n",
       "      <td>0.435540</td>\n",
       "      <td>0.287372</td>\n",
       "      <td>North America</td>\n",
       "      <td>2017</td>\n",
       "    </tr>\n",
       "    <tr>\n",
       "      <th>7</th>\n",
       "      <td>8</td>\n",
       "      <td>New Zealand</td>\n",
       "      <td>7.314</td>\n",
       "      <td>1.405706</td>\n",
       "      <td>1.548195</td>\n",
       "      <td>0.816760</td>\n",
       "      <td>0.614062</td>\n",
       "      <td>0.500005</td>\n",
       "      <td>0.382817</td>\n",
       "      <td>Australia and New Zealand</td>\n",
       "      <td>2017</td>\n",
       "    </tr>\n",
       "    <tr>\n",
       "      <th>8</th>\n",
       "      <td>9</td>\n",
       "      <td>Sweden</td>\n",
       "      <td>7.284</td>\n",
       "      <td>1.494387</td>\n",
       "      <td>1.478162</td>\n",
       "      <td>0.830875</td>\n",
       "      <td>0.612924</td>\n",
       "      <td>0.385399</td>\n",
       "      <td>0.384399</td>\n",
       "      <td>Western Europe</td>\n",
       "      <td>2017</td>\n",
       "    </tr>\n",
       "    <tr>\n",
       "      <th>12</th>\n",
       "      <td>13</td>\n",
       "      <td>Austria</td>\n",
       "      <td>7.006</td>\n",
       "      <td>1.487097</td>\n",
       "      <td>1.459945</td>\n",
       "      <td>0.815328</td>\n",
       "      <td>0.567766</td>\n",
       "      <td>0.316472</td>\n",
       "      <td>0.221060</td>\n",
       "      <td>Western Europe</td>\n",
       "      <td>2017</td>\n",
       "    </tr>\n",
       "    <tr>\n",
       "      <th>0</th>\n",
       "      <td>1</td>\n",
       "      <td>Switzerland</td>\n",
       "      <td>7.587</td>\n",
       "      <td>1.396510</td>\n",
       "      <td>1.349510</td>\n",
       "      <td>0.941430</td>\n",
       "      <td>0.665570</td>\n",
       "      <td>0.296780</td>\n",
       "      <td>0.419780</td>\n",
       "      <td>Western Europe</td>\n",
       "      <td>2015</td>\n",
       "    </tr>\n",
       "    <tr>\n",
       "      <th>1</th>\n",
       "      <td>2</td>\n",
       "      <td>Iceland</td>\n",
       "      <td>7.561</td>\n",
       "      <td>1.302320</td>\n",
       "      <td>1.402230</td>\n",
       "      <td>0.947840</td>\n",
       "      <td>0.628770</td>\n",
       "      <td>0.436300</td>\n",
       "      <td>0.141450</td>\n",
       "      <td>Western Europe</td>\n",
       "      <td>2015</td>\n",
       "    </tr>\n",
       "    <tr>\n",
       "      <th>2</th>\n",
       "      <td>3</td>\n",
       "      <td>Denmark</td>\n",
       "      <td>7.527</td>\n",
       "      <td>1.325480</td>\n",
       "      <td>1.360580</td>\n",
       "      <td>0.874640</td>\n",
       "      <td>0.649380</td>\n",
       "      <td>0.341390</td>\n",
       "      <td>0.483570</td>\n",
       "      <td>Western Europe</td>\n",
       "      <td>2015</td>\n",
       "    </tr>\n",
       "    <tr>\n",
       "      <th>3</th>\n",
       "      <td>4</td>\n",
       "      <td>Norway</td>\n",
       "      <td>7.522</td>\n",
       "      <td>1.459000</td>\n",
       "      <td>1.330950</td>\n",
       "      <td>0.885210</td>\n",
       "      <td>0.669730</td>\n",
       "      <td>0.346990</td>\n",
       "      <td>0.365030</td>\n",
       "      <td>Western Europe</td>\n",
       "      <td>2015</td>\n",
       "    </tr>\n",
       "    <tr>\n",
       "      <th>4</th>\n",
       "      <td>5</td>\n",
       "      <td>Canada</td>\n",
       "      <td>7.427</td>\n",
       "      <td>1.326290</td>\n",
       "      <td>1.322610</td>\n",
       "      <td>0.905630</td>\n",
       "      <td>0.632970</td>\n",
       "      <td>0.458110</td>\n",
       "      <td>0.329570</td>\n",
       "      <td>North America</td>\n",
       "      <td>2015</td>\n",
       "    </tr>\n",
       "    <tr>\n",
       "      <th>5</th>\n",
       "      <td>6</td>\n",
       "      <td>Finland</td>\n",
       "      <td>7.406</td>\n",
       "      <td>1.290250</td>\n",
       "      <td>1.318260</td>\n",
       "      <td>0.889110</td>\n",
       "      <td>0.641690</td>\n",
       "      <td>0.233510</td>\n",
       "      <td>0.413720</td>\n",
       "      <td>Western Europe</td>\n",
       "      <td>2015</td>\n",
       "    </tr>\n",
       "    <tr>\n",
       "      <th>6</th>\n",
       "      <td>7</td>\n",
       "      <td>Netherlands</td>\n",
       "      <td>7.378</td>\n",
       "      <td>1.329440</td>\n",
       "      <td>1.280170</td>\n",
       "      <td>0.892840</td>\n",
       "      <td>0.615760</td>\n",
       "      <td>0.476100</td>\n",
       "      <td>0.318140</td>\n",
       "      <td>Western Europe</td>\n",
       "      <td>2015</td>\n",
       "    </tr>\n",
       "    <tr>\n",
       "      <th>7</th>\n",
       "      <td>8</td>\n",
       "      <td>Sweden</td>\n",
       "      <td>7.364</td>\n",
       "      <td>1.331710</td>\n",
       "      <td>1.289070</td>\n",
       "      <td>0.910870</td>\n",
       "      <td>0.659800</td>\n",
       "      <td>0.362620</td>\n",
       "      <td>0.438440</td>\n",
       "      <td>Western Europe</td>\n",
       "      <td>2015</td>\n",
       "    </tr>\n",
       "    <tr>\n",
       "      <th>8</th>\n",
       "      <td>9</td>\n",
       "      <td>New Zealand</td>\n",
       "      <td>7.286</td>\n",
       "      <td>1.250180</td>\n",
       "      <td>1.319670</td>\n",
       "      <td>0.908370</td>\n",
       "      <td>0.639380</td>\n",
       "      <td>0.475010</td>\n",
       "      <td>0.429220</td>\n",
       "      <td>Australia and New Zealand</td>\n",
       "      <td>2015</td>\n",
       "    </tr>\n",
       "    <tr>\n",
       "      <th>12</th>\n",
       "      <td>13</td>\n",
       "      <td>Austria</td>\n",
       "      <td>7.200</td>\n",
       "      <td>1.337230</td>\n",
       "      <td>1.297040</td>\n",
       "      <td>0.890420</td>\n",
       "      <td>0.624330</td>\n",
       "      <td>0.330880</td>\n",
       "      <td>0.186760</td>\n",
       "      <td>Western Europe</td>\n",
       "      <td>2015</td>\n",
       "    </tr>\n",
       "  </tbody>\n",
       "</table>\n",
       "</div>"
      ],
      "text/plain": [
       "    rank      country  score  GDP_per_capita  social_support  life_expectancy  \\\n",
       "0      1      Finland  7.769        1.340000        1.587000         0.986000   \n",
       "1      2      Denmark  7.600        1.383000        1.573000         0.996000   \n",
       "2      3       Norway  7.554        1.488000        1.582000         1.028000   \n",
       "3      4      Iceland  7.494        1.380000        1.624000         1.026000   \n",
       "4      5  Netherlands  7.488        1.396000        1.522000         0.999000   \n",
       "5      6  Switzerland  7.480        1.452000        1.526000         1.052000   \n",
       "6      7       Sweden  7.343        1.387000        1.487000         1.009000   \n",
       "7      8  New Zealand  7.307        1.303000        1.557000         1.026000   \n",
       "8      9       Canada  7.278        1.365000        1.505000         1.039000   \n",
       "9     10      Austria  7.246        1.376000        1.475000         1.016000   \n",
       "0      1       Norway  7.537        1.616463        1.533524         0.796667   \n",
       "1      2      Denmark  7.522        1.482383        1.551122         0.792566   \n",
       "2      3      Iceland  7.504        1.480633        1.610574         0.833552   \n",
       "3      4  Switzerland  7.494        1.564980        1.516912         0.858131   \n",
       "4      5      Finland  7.469        1.443572        1.540247         0.809158   \n",
       "5      6  Netherlands  7.377        1.503945        1.428939         0.810696   \n",
       "6      7       Canada  7.316        1.479204        1.481349         0.834558   \n",
       "7      8  New Zealand  7.314        1.405706        1.548195         0.816760   \n",
       "8      9       Sweden  7.284        1.494387        1.478162         0.830875   \n",
       "12    13      Austria  7.006        1.487097        1.459945         0.815328   \n",
       "0      1  Switzerland  7.587        1.396510        1.349510         0.941430   \n",
       "1      2      Iceland  7.561        1.302320        1.402230         0.947840   \n",
       "2      3      Denmark  7.527        1.325480        1.360580         0.874640   \n",
       "3      4       Norway  7.522        1.459000        1.330950         0.885210   \n",
       "4      5       Canada  7.427        1.326290        1.322610         0.905630   \n",
       "5      6      Finland  7.406        1.290250        1.318260         0.889110   \n",
       "6      7  Netherlands  7.378        1.329440        1.280170         0.892840   \n",
       "7      8       Sweden  7.364        1.331710        1.289070         0.910870   \n",
       "8      9  New Zealand  7.286        1.250180        1.319670         0.908370   \n",
       "12    13      Austria  7.200        1.337230        1.297040         0.890420   \n",
       "\n",
       "     freedom  generosity     trust                     region  year  \n",
       "0   0.596000    0.153000  0.393000             Western Europe  2019  \n",
       "1   0.592000    0.252000  0.410000             Western Europe  2019  \n",
       "2   0.603000    0.271000  0.341000             Western Europe  2019  \n",
       "3   0.591000    0.354000  0.118000             Western Europe  2019  \n",
       "4   0.557000    0.322000  0.298000             Western Europe  2019  \n",
       "5   0.572000    0.263000  0.343000             Western Europe  2019  \n",
       "6   0.574000    0.267000  0.373000             Western Europe  2019  \n",
       "7   0.585000    0.330000  0.380000  Australia and New Zealand  2019  \n",
       "8   0.584000    0.285000  0.308000              North America  2019  \n",
       "9   0.532000    0.244000  0.226000             Western Europe  2019  \n",
       "0   0.635423    0.362012  0.315964             Western Europe  2017  \n",
       "1   0.626007    0.355280  0.400770             Western Europe  2017  \n",
       "2   0.627163    0.475540  0.153527             Western Europe  2017  \n",
       "3   0.620071    0.290549  0.367007             Western Europe  2017  \n",
       "4   0.617951    0.245483  0.382612             Western Europe  2017  \n",
       "5   0.585384    0.470490  0.282662             Western Europe  2017  \n",
       "6   0.611101    0.435540  0.287372              North America  2017  \n",
       "7   0.614062    0.500005  0.382817  Australia and New Zealand  2017  \n",
       "8   0.612924    0.385399  0.384399             Western Europe  2017  \n",
       "12  0.567766    0.316472  0.221060             Western Europe  2017  \n",
       "0   0.665570    0.296780  0.419780             Western Europe  2015  \n",
       "1   0.628770    0.436300  0.141450             Western Europe  2015  \n",
       "2   0.649380    0.341390  0.483570             Western Europe  2015  \n",
       "3   0.669730    0.346990  0.365030             Western Europe  2015  \n",
       "4   0.632970    0.458110  0.329570              North America  2015  \n",
       "5   0.641690    0.233510  0.413720             Western Europe  2015  \n",
       "6   0.615760    0.476100  0.318140             Western Europe  2015  \n",
       "7   0.659800    0.362620  0.438440             Western Europe  2015  \n",
       "8   0.639380    0.475010  0.429220  Australia and New Zealand  2015  \n",
       "12  0.624330    0.330880  0.186760             Western Europe  2015  "
      ]
     },
     "execution_count": 34,
     "metadata": {},
     "output_type": "execute_result"
    }
   ],
   "source": [
    "countrylist = df3['country'].tolist()\n",
    "df_2019sub = df_2019[df_2019['country'].isin(countrylist)]\n",
    "df_2019sub.insert(loc=10, column='year', value=2019)\n",
    "df_2017sub = df_2017[df_2017['country'].isin(countrylist)]\n",
    "df_2017sub.insert(loc=10, column='year', value=2017)\n",
    "df_2015sub = df_2015[df_2015['country'].isin(countrylist)]\n",
    "df_2015sub.insert(loc=10, column='year', value=2015)\n",
    "history = pd.concat([df_2019sub, df_2017sub, df_2015sub])\n",
    "history"
   ]
  },
  {
   "cell_type": "code",
   "execution_count": 35,
   "metadata": {
    "deletable": false,
    "editable": false
   },
   "outputs": [
    {
     "data": {
      "text/html": [
       "\n",
       "    \n",
       "    \n",
       "        <p>All tests passed!</p>\n",
       "    \n",
       "    "
      ],
      "text/plain": [
       "\n",
       "    All tests passed!\n",
       "    "
      ]
     },
     "execution_count": 35,
     "metadata": {},
     "output_type": "execute_result"
    }
   ],
   "source": [
    "grader.check(\"q15\")"
   ]
  },
  {
   "cell_type": "markdown",
   "metadata": {
    "deletable": false,
    "editable": false
   },
   "source": [
    "**Question 16:** To plot the Happiness Scores of the 10 countries across 4 years, we would need to ensure that the dataframe has a logical structure to it. \n",
    "\n",
    "One of the ways in which this could be done is using ```.pivot_table()```. Think of what could be the most logical structure to visualize this information in the form of a table, and use the function to ensure such a structure.\n",
    "\n",
    "*Answering Guidelines*: Store the output in the ```history_table```\n",
    "\n",
    "<!--\n",
    "BEGIN QUESTION\n",
    "name: q16\n",
    "points: 5\n",
    "-->"
   ]
  },
  {
   "cell_type": "code",
   "execution_count": 98,
   "metadata": {
    "executionInfo": {
     "elapsed": 48808,
     "status": "aborted",
     "timestamp": 1602304669704,
     "user": {
      "displayName": "Mehreen Masood",
      "photoUrl": "",
      "userId": "17408234481715224398"
     },
     "user_tz": -300
    },
    "id": "M2uB8DEK_idJ",
    "scrolled": true
   },
   "outputs": [
    {
     "data": {
      "text/html": [
       "<div>\n",
       "<style scoped>\n",
       "    .dataframe tbody tr th:only-of-type {\n",
       "        vertical-align: middle;\n",
       "    }\n",
       "\n",
       "    .dataframe tbody tr th {\n",
       "        vertical-align: top;\n",
       "    }\n",
       "\n",
       "    .dataframe thead tr th {\n",
       "        text-align: left;\n",
       "    }\n",
       "\n",
       "    .dataframe thead tr:last-of-type th {\n",
       "        text-align: right;\n",
       "    }\n",
       "</style>\n",
       "<table border=\"1\" class=\"dataframe\">\n",
       "  <thead>\n",
       "    <tr>\n",
       "      <th></th>\n",
       "      <th colspan=\"3\" halign=\"left\">GDP_per_capita</th>\n",
       "      <th colspan=\"3\" halign=\"left\">freedom</th>\n",
       "      <th colspan=\"3\" halign=\"left\">generosity</th>\n",
       "      <th>index</th>\n",
       "      <th>...</th>\n",
       "      <th>rank</th>\n",
       "      <th colspan=\"3\" halign=\"left\">score</th>\n",
       "      <th colspan=\"3\" halign=\"left\">social_support</th>\n",
       "      <th colspan=\"3\" halign=\"left\">trust</th>\n",
       "    </tr>\n",
       "    <tr>\n",
       "      <th>year</th>\n",
       "      <th>2015</th>\n",
       "      <th>2017</th>\n",
       "      <th>2019</th>\n",
       "      <th>2015</th>\n",
       "      <th>2017</th>\n",
       "      <th>2019</th>\n",
       "      <th>2015</th>\n",
       "      <th>2017</th>\n",
       "      <th>2019</th>\n",
       "      <th>2015</th>\n",
       "      <th>...</th>\n",
       "      <th>2019</th>\n",
       "      <th>2015</th>\n",
       "      <th>2017</th>\n",
       "      <th>2019</th>\n",
       "      <th>2015</th>\n",
       "      <th>2017</th>\n",
       "      <th>2019</th>\n",
       "      <th>2015</th>\n",
       "      <th>2017</th>\n",
       "      <th>2019</th>\n",
       "    </tr>\n",
       "    <tr>\n",
       "      <th>country</th>\n",
       "      <th></th>\n",
       "      <th></th>\n",
       "      <th></th>\n",
       "      <th></th>\n",
       "      <th></th>\n",
       "      <th></th>\n",
       "      <th></th>\n",
       "      <th></th>\n",
       "      <th></th>\n",
       "      <th></th>\n",
       "      <th></th>\n",
       "      <th></th>\n",
       "      <th></th>\n",
       "      <th></th>\n",
       "      <th></th>\n",
       "      <th></th>\n",
       "      <th></th>\n",
       "      <th></th>\n",
       "      <th></th>\n",
       "      <th></th>\n",
       "      <th></th>\n",
       "    </tr>\n",
       "  </thead>\n",
       "  <tbody>\n",
       "    <tr>\n",
       "      <th>Austria</th>\n",
       "      <td>1.33723</td>\n",
       "      <td>1.487097</td>\n",
       "      <td>1.376</td>\n",
       "      <td>0.62433</td>\n",
       "      <td>0.567766</td>\n",
       "      <td>0.532</td>\n",
       "      <td>0.33088</td>\n",
       "      <td>0.316472</td>\n",
       "      <td>0.244</td>\n",
       "      <td>12</td>\n",
       "      <td>...</td>\n",
       "      <td>10</td>\n",
       "      <td>7.200</td>\n",
       "      <td>7.006</td>\n",
       "      <td>7.246</td>\n",
       "      <td>1.29704</td>\n",
       "      <td>1.459945</td>\n",
       "      <td>1.475</td>\n",
       "      <td>0.18676</td>\n",
       "      <td>0.221060</td>\n",
       "      <td>0.226</td>\n",
       "    </tr>\n",
       "    <tr>\n",
       "      <th>Canada</th>\n",
       "      <td>1.32629</td>\n",
       "      <td>1.479204</td>\n",
       "      <td>1.365</td>\n",
       "      <td>0.63297</td>\n",
       "      <td>0.611101</td>\n",
       "      <td>0.584</td>\n",
       "      <td>0.45811</td>\n",
       "      <td>0.435540</td>\n",
       "      <td>0.285</td>\n",
       "      <td>4</td>\n",
       "      <td>...</td>\n",
       "      <td>9</td>\n",
       "      <td>7.427</td>\n",
       "      <td>7.316</td>\n",
       "      <td>7.278</td>\n",
       "      <td>1.32261</td>\n",
       "      <td>1.481349</td>\n",
       "      <td>1.505</td>\n",
       "      <td>0.32957</td>\n",
       "      <td>0.287372</td>\n",
       "      <td>0.308</td>\n",
       "    </tr>\n",
       "    <tr>\n",
       "      <th>Denmark</th>\n",
       "      <td>1.32548</td>\n",
       "      <td>1.482383</td>\n",
       "      <td>1.383</td>\n",
       "      <td>0.64938</td>\n",
       "      <td>0.626007</td>\n",
       "      <td>0.592</td>\n",
       "      <td>0.34139</td>\n",
       "      <td>0.355280</td>\n",
       "      <td>0.252</td>\n",
       "      <td>2</td>\n",
       "      <td>...</td>\n",
       "      <td>2</td>\n",
       "      <td>7.527</td>\n",
       "      <td>7.522</td>\n",
       "      <td>7.600</td>\n",
       "      <td>1.36058</td>\n",
       "      <td>1.551122</td>\n",
       "      <td>1.573</td>\n",
       "      <td>0.48357</td>\n",
       "      <td>0.400770</td>\n",
       "      <td>0.410</td>\n",
       "    </tr>\n",
       "    <tr>\n",
       "      <th>Finland</th>\n",
       "      <td>1.29025</td>\n",
       "      <td>1.443572</td>\n",
       "      <td>1.340</td>\n",
       "      <td>0.64169</td>\n",
       "      <td>0.617951</td>\n",
       "      <td>0.596</td>\n",
       "      <td>0.23351</td>\n",
       "      <td>0.245483</td>\n",
       "      <td>0.153</td>\n",
       "      <td>5</td>\n",
       "      <td>...</td>\n",
       "      <td>1</td>\n",
       "      <td>7.406</td>\n",
       "      <td>7.469</td>\n",
       "      <td>7.769</td>\n",
       "      <td>1.31826</td>\n",
       "      <td>1.540247</td>\n",
       "      <td>1.587</td>\n",
       "      <td>0.41372</td>\n",
       "      <td>0.382612</td>\n",
       "      <td>0.393</td>\n",
       "    </tr>\n",
       "    <tr>\n",
       "      <th>Iceland</th>\n",
       "      <td>1.30232</td>\n",
       "      <td>1.480633</td>\n",
       "      <td>1.380</td>\n",
       "      <td>0.62877</td>\n",
       "      <td>0.627163</td>\n",
       "      <td>0.591</td>\n",
       "      <td>0.43630</td>\n",
       "      <td>0.475540</td>\n",
       "      <td>0.354</td>\n",
       "      <td>1</td>\n",
       "      <td>...</td>\n",
       "      <td>4</td>\n",
       "      <td>7.561</td>\n",
       "      <td>7.504</td>\n",
       "      <td>7.494</td>\n",
       "      <td>1.40223</td>\n",
       "      <td>1.610574</td>\n",
       "      <td>1.624</td>\n",
       "      <td>0.14145</td>\n",
       "      <td>0.153527</td>\n",
       "      <td>0.118</td>\n",
       "    </tr>\n",
       "    <tr>\n",
       "      <th>Netherlands</th>\n",
       "      <td>1.32944</td>\n",
       "      <td>1.503945</td>\n",
       "      <td>1.396</td>\n",
       "      <td>0.61576</td>\n",
       "      <td>0.585384</td>\n",
       "      <td>0.557</td>\n",
       "      <td>0.47610</td>\n",
       "      <td>0.470490</td>\n",
       "      <td>0.322</td>\n",
       "      <td>6</td>\n",
       "      <td>...</td>\n",
       "      <td>5</td>\n",
       "      <td>7.378</td>\n",
       "      <td>7.377</td>\n",
       "      <td>7.488</td>\n",
       "      <td>1.28017</td>\n",
       "      <td>1.428939</td>\n",
       "      <td>1.522</td>\n",
       "      <td>0.31814</td>\n",
       "      <td>0.282662</td>\n",
       "      <td>0.298</td>\n",
       "    </tr>\n",
       "    <tr>\n",
       "      <th>New Zealand</th>\n",
       "      <td>1.25018</td>\n",
       "      <td>1.405706</td>\n",
       "      <td>1.303</td>\n",
       "      <td>0.63938</td>\n",
       "      <td>0.614062</td>\n",
       "      <td>0.585</td>\n",
       "      <td>0.47501</td>\n",
       "      <td>0.500005</td>\n",
       "      <td>0.330</td>\n",
       "      <td>8</td>\n",
       "      <td>...</td>\n",
       "      <td>8</td>\n",
       "      <td>7.286</td>\n",
       "      <td>7.314</td>\n",
       "      <td>7.307</td>\n",
       "      <td>1.31967</td>\n",
       "      <td>1.548195</td>\n",
       "      <td>1.557</td>\n",
       "      <td>0.42922</td>\n",
       "      <td>0.382817</td>\n",
       "      <td>0.380</td>\n",
       "    </tr>\n",
       "    <tr>\n",
       "      <th>Norway</th>\n",
       "      <td>1.45900</td>\n",
       "      <td>1.616463</td>\n",
       "      <td>1.488</td>\n",
       "      <td>0.66973</td>\n",
       "      <td>0.635423</td>\n",
       "      <td>0.603</td>\n",
       "      <td>0.34699</td>\n",
       "      <td>0.362012</td>\n",
       "      <td>0.271</td>\n",
       "      <td>3</td>\n",
       "      <td>...</td>\n",
       "      <td>3</td>\n",
       "      <td>7.522</td>\n",
       "      <td>7.537</td>\n",
       "      <td>7.554</td>\n",
       "      <td>1.33095</td>\n",
       "      <td>1.533524</td>\n",
       "      <td>1.582</td>\n",
       "      <td>0.36503</td>\n",
       "      <td>0.315964</td>\n",
       "      <td>0.341</td>\n",
       "    </tr>\n",
       "    <tr>\n",
       "      <th>Sweden</th>\n",
       "      <td>1.33171</td>\n",
       "      <td>1.494387</td>\n",
       "      <td>1.387</td>\n",
       "      <td>0.65980</td>\n",
       "      <td>0.612924</td>\n",
       "      <td>0.574</td>\n",
       "      <td>0.36262</td>\n",
       "      <td>0.385399</td>\n",
       "      <td>0.267</td>\n",
       "      <td>7</td>\n",
       "      <td>...</td>\n",
       "      <td>7</td>\n",
       "      <td>7.364</td>\n",
       "      <td>7.284</td>\n",
       "      <td>7.343</td>\n",
       "      <td>1.28907</td>\n",
       "      <td>1.478162</td>\n",
       "      <td>1.487</td>\n",
       "      <td>0.43844</td>\n",
       "      <td>0.384399</td>\n",
       "      <td>0.373</td>\n",
       "    </tr>\n",
       "    <tr>\n",
       "      <th>Switzerland</th>\n",
       "      <td>1.39651</td>\n",
       "      <td>1.564980</td>\n",
       "      <td>1.452</td>\n",
       "      <td>0.66557</td>\n",
       "      <td>0.620071</td>\n",
       "      <td>0.572</td>\n",
       "      <td>0.29678</td>\n",
       "      <td>0.290549</td>\n",
       "      <td>0.263</td>\n",
       "      <td>0</td>\n",
       "      <td>...</td>\n",
       "      <td>6</td>\n",
       "      <td>7.587</td>\n",
       "      <td>7.494</td>\n",
       "      <td>7.480</td>\n",
       "      <td>1.34951</td>\n",
       "      <td>1.516912</td>\n",
       "      <td>1.526</td>\n",
       "      <td>0.41978</td>\n",
       "      <td>0.367007</td>\n",
       "      <td>0.343</td>\n",
       "    </tr>\n",
       "  </tbody>\n",
       "</table>\n",
       "<p>10 rows × 30 columns</p>\n",
       "</div>"
      ],
      "text/plain": [
       "            GDP_per_capita                   freedom                   \\\n",
       "year                  2015      2017   2019     2015      2017   2019   \n",
       "country                                                                 \n",
       "Austria            1.33723  1.487097  1.376  0.62433  0.567766  0.532   \n",
       "Canada             1.32629  1.479204  1.365  0.63297  0.611101  0.584   \n",
       "Denmark            1.32548  1.482383  1.383  0.64938  0.626007  0.592   \n",
       "Finland            1.29025  1.443572  1.340  0.64169  0.617951  0.596   \n",
       "Iceland            1.30232  1.480633  1.380  0.62877  0.627163  0.591   \n",
       "Netherlands        1.32944  1.503945  1.396  0.61576  0.585384  0.557   \n",
       "New Zealand        1.25018  1.405706  1.303  0.63938  0.614062  0.585   \n",
       "Norway             1.45900  1.616463  1.488  0.66973  0.635423  0.603   \n",
       "Sweden             1.33171  1.494387  1.387  0.65980  0.612924  0.574   \n",
       "Switzerland        1.39651  1.564980  1.452  0.66557  0.620071  0.572   \n",
       "\n",
       "            generosity                  index  ... rank  score                \\\n",
       "year              2015      2017   2019  2015  ... 2019   2015   2017   2019   \n",
       "country                                        ...                             \n",
       "Austria        0.33088  0.316472  0.244    12  ...   10  7.200  7.006  7.246   \n",
       "Canada         0.45811  0.435540  0.285     4  ...    9  7.427  7.316  7.278   \n",
       "Denmark        0.34139  0.355280  0.252     2  ...    2  7.527  7.522  7.600   \n",
       "Finland        0.23351  0.245483  0.153     5  ...    1  7.406  7.469  7.769   \n",
       "Iceland        0.43630  0.475540  0.354     1  ...    4  7.561  7.504  7.494   \n",
       "Netherlands    0.47610  0.470490  0.322     6  ...    5  7.378  7.377  7.488   \n",
       "New Zealand    0.47501  0.500005  0.330     8  ...    8  7.286  7.314  7.307   \n",
       "Norway         0.34699  0.362012  0.271     3  ...    3  7.522  7.537  7.554   \n",
       "Sweden         0.36262  0.385399  0.267     7  ...    7  7.364  7.284  7.343   \n",
       "Switzerland    0.29678  0.290549  0.263     0  ...    6  7.587  7.494  7.480   \n",
       "\n",
       "            social_support                     trust                   \n",
       "year                  2015      2017   2019     2015      2017   2019  \n",
       "country                                                                \n",
       "Austria            1.29704  1.459945  1.475  0.18676  0.221060  0.226  \n",
       "Canada             1.32261  1.481349  1.505  0.32957  0.287372  0.308  \n",
       "Denmark            1.36058  1.551122  1.573  0.48357  0.400770  0.410  \n",
       "Finland            1.31826  1.540247  1.587  0.41372  0.382612  0.393  \n",
       "Iceland            1.40223  1.610574  1.624  0.14145  0.153527  0.118  \n",
       "Netherlands        1.28017  1.428939  1.522  0.31814  0.282662  0.298  \n",
       "New Zealand        1.31967  1.548195  1.557  0.42922  0.382817  0.380  \n",
       "Norway             1.33095  1.533524  1.582  0.36503  0.315964  0.341  \n",
       "Sweden             1.28907  1.478162  1.487  0.43844  0.384399  0.373  \n",
       "Switzerland        1.34951  1.516912  1.526  0.41978  0.367007  0.343  \n",
       "\n",
       "[10 rows x 30 columns]"
      ]
     },
     "execution_count": 98,
     "metadata": {},
     "output_type": "execute_result"
    }
   ],
   "source": [
    "history_table = pd.pivot_table(history, index='country', columns='year')\n",
    "history_table"
   ]
  },
  {
   "cell_type": "code",
   "execution_count": null,
   "metadata": {
    "deletable": false,
    "editable": false
   },
   "outputs": [],
   "source": [
    "grader.check(\"q16\")"
   ]
  },
  {
   "cell_type": "markdown",
   "metadata": {
    "deletable": false,
    "editable": false
   },
   "source": [
    "<!-- BEGIN QUESTION -->\n",
    "\n",
    "**Question 17:** Make use of a line plot to display the trend in Happiness Scores for all the 10 countries across the 4 years.\n",
    "\n",
    "*Answering Guidelines*: \n",
    "* Follow the instructions given in the 'Grading' section with regards to plots. \n",
    "* The countries must be all in the same plot\n",
    "\n",
    "<!--\n",
    "BEGIN QUESTION\n",
    "name: q17\n",
    "points: 3\n",
    "manual: true\n",
    "-->"
   ]
  },
  {
   "cell_type": "code",
   "execution_count": 100,
   "metadata": {},
   "outputs": [
    {
     "data": {
      "text/plain": [
       "<matplotlib.legend.Legend at 0x214a94a2280>"
      ]
     },
     "execution_count": 100,
     "metadata": {},
     "output_type": "execute_result"
    },
    {
     "data": {
      "image/png": "[encoded data removed]",
      "text/plain": [
       "<Figure size 432x288 with 1 Axes>"
      ]
     },
     "metadata": {},
     "output_type": "display_data"
    }
   ],
   "source": [
    "history_table2 = pd.pivot_table(history, index='year', columns='country', values='score')\n",
    "my_colors = ['red', 'orange', 'yellow', 'green', 'pink', 'purple', 'blue', 'black', 'indigo', 'brown']\n",
    "ax4 = history_table2.plot(xticks=[2015, 2017, 2019], kind=\"line\", color=my_colors, secondary_y=['country']).legend(bbox_to_anchor=(1.5, 1))\n",
    "ax4"
   ]
  },
  {
   "cell_type": "markdown",
   "metadata": {
    "deletable": false,
    "editable": false,
    "id": "jkzlyZ9Z5RhQ"
   },
   "source": [
    "<!-- END QUESTION -->\n",
    "\n",
    "<!-- BEGIN QUESTION -->\n",
    "\n",
    "**Question 18:** Using the Line Plot above, list down all countries showing a consistent trend (positive or negative).\n",
    "\n",
    "*Answering Guidelines*: A placeholder for your answer has been made - simply add your answer in the markdown cell below as instructed.\n",
    "\n",
    "<!--\n",
    "BEGIN QUESTION\n",
    "name: q18\n",
    "points: 1\n",
    "manual: true\n",
    "-->"
   ]
  },
  {
   "cell_type": "markdown",
   "metadata": {},
   "source": [
    "Canada, Netherlands, Finland, Iceland, Switzerland"
   ]
  },
  {
   "cell_type": "markdown",
   "metadata": {
    "deletable": false,
    "editable": false,
    "id": "bxMKGYz6GKcp"
   },
   "source": [
    "<!-- END QUESTION -->\n",
    "\n",
    "<!-- BEGIN QUESTION -->\n",
    "\n",
    "**Question 19:** From the list in the previous question, pick any 3 countries and perform a manual observation to see whether any variables might be contributing to the trend shown. For any such country, also suggest a suitable plot for visualizing the affects. \n",
    "\n",
    "*Answering Guidelines*: \n",
    "* A placeholder for your answer has been made - simply add your answer in the markdown cell below as instructed\n",
    "* If you think there are no such factors, simply mention that. The purpose of this question is to see your rationale.\n",
    "\n",
    "\n",
    "<!--\n",
    "BEGIN QUESTION\n",
    "name: q19\n",
    "points: 3\n",
    "manual: true\n",
    "-->"
   ]
  },
  {
   "cell_type": "markdown",
   "metadata": {},
   "source": [
    "Canada, negative trend, probably due to"
   ]
  },
  {
   "cell_type": "markdown",
   "metadata": {
    "id": "up7wmq_q93kS"
   },
   "source": [
    "<!-- END QUESTION -->\n",
    "\n",
    "\n",
    "\n",
    "# Congratulations!! \n",
    "\n",
    "You have managed to reach the finishing line. \n",
    "\n",
    "**Reminder:** Don't forget to answer question 2 in 'Cleaning Part 1' of Part 1."
   ]
  },
  {
   "cell_type": "markdown",
   "metadata": {
    "deletable": false,
    "editable": false
   },
   "source": [
    "---\n",
    "\n",
    "To double-check your work, the cell below will rerun all of the autograder tests."
   ]
  },
  {
   "cell_type": "code",
   "execution_count": null,
   "metadata": {
    "deletable": false,
    "editable": false
   },
   "outputs": [],
   "source": [
    "grader.check_all()"
   ]
  },
  {
   "cell_type": "markdown",
   "metadata": {
    "deletable": false,
    "editable": false
   },
   "source": [
    "## Submission\n",
    "\n",
    "Make sure you have run all cells in your notebook in order before running the cell below, so that all images/graphs appear in the output. The cell below will generate a zip file for you to submit. **Please save before exporting!**"
   ]
  },
  {
   "cell_type": "code",
   "execution_count": null,
   "metadata": {
    "deletable": false,
    "editable": false
   },
   "outputs": [],
   "source": [
    "# Save your notebook first, then run this cell to export your submission.\n",
    "grader.export(\"2XXXXXXX_2.ipynb\")"
   ]
  },
  {
   "cell_type": "markdown",
   "metadata": {},
   "source": [
    " "
   ]
  }
 ],
 "metadata": {
  "colab": {
   "collapsed_sections": [],
   "name": "DataCleaning&EDA-Assignment2.ipynb",
   "provenance": []
  },
  "kernelspec": {
   "display_name": "Python 3",
   "language": "python",
   "name": "python3"
  },
  "language_info": {
   "codemirror_mode": {
    "name": "ipython",
    "version": 3
   },
   "file_extension": ".py",
   "mimetype": "text/x-python",
   "name": "python",
   "nbconvert_exporter": "python",
   "pygments_lexer": "ipython3",
   "version": "3.8.3"
  }
 },
 "nbformat": 4,
 "nbformat_minor": 4
}
